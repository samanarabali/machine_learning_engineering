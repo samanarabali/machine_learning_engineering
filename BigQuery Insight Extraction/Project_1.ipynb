{
 "cells": [
  {
   "cell_type": "code",
   "execution_count": 9,
   "metadata": {},
   "outputs": [],
   "source": [
    "import pandas as pd"
   ]
  },
  {
   "cell_type": "markdown",
   "metadata": {},
   "source": [
    "I first try to see if I can find any riding pattern from the data. The following code was executed in the terminal to extract the start hour and end hour of the trips during the weekdays. I put a filter on the weekdays and extracted the hour + minute of the start and end dates of trips. The objective is to look at the histogram of riding hours to extract riding patterns during weekdays.\n",
    "\n",
    "```\n",
    "! bq query --use_legacy_sql=FALSE --format=csv --max_rows=1000000 'SELECT trip_id, \n",
    "EXTRACT(HOUR FROM start_date)+EXTRACT(MINUTE FROM start_date)/60 AS start_hour, \n",
    "EXTRACT(HOUR FROM end_date)+EXTRACT(MINUTE FROM end_date)/60 AS end_hour\n",
    "FROM `bigquery-public-data.san_francisco.bikeshare_trips` \n",
    "WHERE (EXTRACT(DAYOFWEEK FROM start_date) NOT IN (1, 7)) and (EXTRACT(DAYOFWEEK FROM end_date) NOT IN (1, 7))\n",
    "order by start_hour' > result.csv\n",
    "```"
   ]
  },
  {
   "cell_type": "code",
   "execution_count": 75,
   "metadata": {},
   "outputs": [],
   "source": [
    "# import the CSV file\n",
    "pop_trips = pd.read_csv('result.csv')"
   ]
  },
  {
   "cell_type": "code",
   "execution_count": 76,
   "metadata": {},
   "outputs": [
    {
     "data": {
      "text/plain": [
       "Text(0.5, 1.0, 'histogram of trip start hours in weekdays')"
      ]
     },
     "execution_count": 76,
     "metadata": {},
     "output_type": "execute_result"
    },
    {
     "data": {
      "image/png": "[encoded data removed]",
      "text/plain": [
       "<Figure size 432x288 with 1 Axes>"
      ]
     },
     "metadata": {
      "needs_background": "light"
     },
     "output_type": "display_data"
    }
   ],
   "source": [
    "# Histogram plot of the start hours of trips in weekdays\n",
    "ax = pop_trips.start_hour.hist(bins = 24)\n",
    "ax.set_ylabel(\"Frequency\") \n",
    "ax.set_xlabel(\"trip start hour\") \n",
    "ax.set_title(\"histogram of trip start hours in weekdays\")"
   ]
  },
  {
   "cell_type": "markdown",
   "metadata": {},
   "source": [
    "From the histogram of the start hours of trips during weekdays, there is a clear biking pattern that peaks in the\n",
    "morning between 8-10 am and also in the evening from 16-18 which is consistent with start and end worh hours. A similar pattern exists for the end hours of the trip as shown in the histogram plot below. "
   ]
  },
  {
   "cell_type": "code",
   "execution_count": 12,
   "metadata": {},
   "outputs": [
    {
     "data": {
      "text/plain": [
       "Text(0.5, 1.0, 'histogram of trip end hours in weekdays')"
      ]
     },
     "execution_count": 12,
     "metadata": {},
     "output_type": "execute_result"
    },
    {
     "data": {
      "image/png": "[encoded data removed]",
      "text/plain": [
       "<Figure size 432x288 with 1 Axes>"
      ]
     },
     "metadata": {
      "needs_background": "light"
     },
     "output_type": "display_data"
    }
   ],
   "source": [
    "# Histogram plot of the end hours of trips in weekdays\n",
    "ax = pop_trips.end_hour.hist(bins = 24)\n",
    "ax.set_ylabel(\"frequency\") \n",
    "ax.set_xlabel(\"trip end hour\")\n",
    "ax.set_title(\"histogram of trip end hours in weekdays\")"
   ]
  },
  {
   "cell_type": "markdown",
   "metadata": {},
   "source": [
    "Now I would like to take a look at the trip durations for those trips within the weekdays. I use the following query in the Terminal. It looks like 97% of the trips are below 30 minutes. This is another indication that majority of people use bikes to get to the Caltrain stations or from Caltrain stations to work on a daily basis.  \n",
    "\n",
    "```\n",
    "! bq query --use_legacy_sql=FALSE --format=csv --max_rows=1000000 'SELECT trip_id, \n",
    "duration_sec/60 trip_duration_min\n",
    "FROM `bigquery-public-data.san_francisco.bikeshare_trips` \n",
    "WHERE (EXTRACT(DAYOFWEEK FROM start_date) NOT IN (1, 7)) and (EXTRACT(DAYOFWEEK FROM end_date) NOT IN (1, 7))\n",
    "order by trip_duration_min desc' > result1.csv\n",
    "```"
   ]
  },
  {
   "cell_type": "code",
   "execution_count": 67,
   "metadata": {},
   "outputs": [
    {
     "name": "stdout",
     "output_type": "stream",
     "text": [
      "percentage of trips being less than 30 min:\n"
     ]
    },
    {
     "data": {
      "text/plain": [
       "96.97708227912736"
      ]
     },
     "execution_count": 67,
     "metadata": {},
     "output_type": "execute_result"
    }
   ],
   "source": [
    "# Trips duration in weekdays\n",
    "trip_duration = pd.read_csv('result1.csv')\n",
    "print(\"percentage of trips being less than 30 min:\")\n",
    "100*len(trip_duration.trip_duration_min[trip_duration.trip_duration_min <= 30])/len(trip_duration.trip_duration_min)"
   ]
  },
  {
   "cell_type": "markdown",
   "metadata": {},
   "source": [
    "Now we want to see if we have any supply shortage during peak hours. The following query groups the hours when the `bikes_availale` is zero and counts the number of zero bike availability events within weekdays. "
   ]
  },
  {
   "cell_type": "code",
   "execution_count": 35,
   "metadata": {},
   "outputs": [],
   "source": [
    "%%bigquery zero_bike\n",
    "SELECT hour, count(hour) as zero_bike_hour_freq\n",
    "from (\n",
    "SELECT EXTRACT(HOUR FROM time) AS hour \n",
    "FROM `bigquery-public-data.san_francisco.bikeshare_status` \n",
    "WHERE (EXTRACT(DAYOFWEEK FROM time) NOT IN (1, 7)) and bikes_available = 0\n",
    ")\n",
    "group by hour \n",
    "order by zero_bike_hour_freq desc\n"
   ]
  },
  {
   "cell_type": "markdown",
   "metadata": {},
   "source": [
    "As the result shows below, the zero bike availibility frequency peaks during peak riding hours e. g. hours 9-10 and 18-19."
   ]
  },
  {
   "cell_type": "code",
   "execution_count": 36,
   "metadata": {},
   "outputs": [
    {
     "data": {
      "text/html": [
       "<div>\n",
       "<style scoped>\n",
       "    .dataframe tbody tr th:only-of-type {\n",
       "        vertical-align: middle;\n",
       "    }\n",
       "\n",
       "    .dataframe tbody tr th {\n",
       "        vertical-align: top;\n",
       "    }\n",
       "\n",
       "    .dataframe thead th {\n",
       "        text-align: right;\n",
       "    }\n",
       "</style>\n",
       "<table border=\"1\" class=\"dataframe\">\n",
       "  <thead>\n",
       "    <tr style=\"text-align: right;\">\n",
       "      <th></th>\n",
       "      <th>hour</th>\n",
       "      <th>zero_bike_hour_freq</th>\n",
       "    </tr>\n",
       "  </thead>\n",
       "  <tbody>\n",
       "    <tr>\n",
       "      <th>0</th>\n",
       "      <td>18</td>\n",
       "      <td>93322</td>\n",
       "    </tr>\n",
       "    <tr>\n",
       "      <th>1</th>\n",
       "      <td>9</td>\n",
       "      <td>71380</td>\n",
       "    </tr>\n",
       "    <tr>\n",
       "      <th>2</th>\n",
       "      <td>17</td>\n",
       "      <td>66034</td>\n",
       "    </tr>\n",
       "    <tr>\n",
       "      <th>3</th>\n",
       "      <td>10</td>\n",
       "      <td>47665</td>\n",
       "    </tr>\n",
       "    <tr>\n",
       "      <th>4</th>\n",
       "      <td>19</td>\n",
       "      <td>47480</td>\n",
       "    </tr>\n",
       "  </tbody>\n",
       "</table>\n",
       "</div>"
      ],
      "text/plain": [
       "   hour  zero_bike_hour_freq\n",
       "0    18                93322\n",
       "1     9                71380\n",
       "2    17                66034\n",
       "3    10                47665\n",
       "4    19                47480"
      ]
     },
     "execution_count": 36,
     "metadata": {},
     "output_type": "execute_result"
    }
   ],
   "source": [
    "zero_bike.head(5)"
   ]
  },
  {
   "cell_type": "markdown",
   "metadata": {},
   "source": [
    "The following figure shows hours in terms of the number of zero bike availibility events for weekdays. It is consistent with the peak riding hours. In other words, the zero bike availibility events peak during high demand hours especially 9 AM and 18 PM."
   ]
  },
  {
   "cell_type": "code",
   "execution_count": 37,
   "metadata": {},
   "outputs": [
    {
     "data": {
      "text/plain": [
       "<AxesSubplot:title={'center':'number of zero bike events in weekdays'}, xlabel='hour', ylabel='zero_bike_hour_freq'>"
      ]
     },
     "execution_count": 37,
     "metadata": {},
     "output_type": "execute_result"
    },
    {
     "data": {
      "image/png": "[encoded data removed]",
      "text/plain": [
       "<Figure size 432x288 with 1 Axes>"
      ]
     },
     "metadata": {
      "needs_background": "light"
     },
     "output_type": "display_data"
    }
   ],
   "source": [
    "zero_bike.plot(x='hour', y='zero_bike_hour_freq', kind='scatter', title='number of zero bike events in weekdays')"
   ]
  },
  {
   "cell_type": "markdown",
   "metadata": {},
   "source": [
    "This is clearly a daily pattern of people who go to work in the morning and come back in the evening. The following query shows that San Francisco Caltrain is among the top 10 most favorite stations during peak hours. It looks like the bike users are motly subscribers so they have either annual or 30-say membership. So one recommendation here is to promote subscribers with adding off-peak hour ride discount features. We oserved that the zero bike availibility events peak during peak hours so if the company can encourage the subscribers to ride during off-peak hours like 10 AM -15 PM or after 19 PM, we are going to see significat reduction in the number of zero availability events which means increased ridership."
   ]
  },
  {
   "cell_type": "code",
   "execution_count": 77,
   "metadata": {},
   "outputs": [],
   "source": [
    "%%bigquery pop_stations\n",
    "SELECT start_hour, start_station_name, count(trip_id) trip_freq, subscriber_type\n",
    "from (\n",
    "SELECT trip_id, start_station_name, EXTRACT(HOUR FROM start_date) AS start_hour, subscriber_type\n",
    "FROM `bigquery-public-data.san_francisco.bikeshare_trips` \n",
    "WHERE (EXTRACT(DAYOFWEEK FROM start_date) NOT IN (1, 7)) and (EXTRACT(HOUR FROM start_date) IN (8,9,10,16,17,18))\n",
    ")\n",
    "group by start_hour, start_station_name, subscriber_type\n",
    "order by trip_freq desc "
   ]
  },
  {
   "cell_type": "code",
   "execution_count": 78,
   "metadata": {},
   "outputs": [
    {
     "data": {
      "text/html": [
       "<div>\n",
       "<style scoped>\n",
       "    .dataframe tbody tr th:only-of-type {\n",
       "        vertical-align: middle;\n",
       "    }\n",
       "\n",
       "    .dataframe tbody tr th {\n",
       "        vertical-align: top;\n",
       "    }\n",
       "\n",
       "    .dataframe thead th {\n",
       "        text-align: right;\n",
       "    }\n",
       "</style>\n",
       "<table border=\"1\" class=\"dataframe\">\n",
       "  <thead>\n",
       "    <tr style=\"text-align: right;\">\n",
       "      <th></th>\n",
       "      <th>start_hour</th>\n",
       "      <th>start_station_name</th>\n",
       "      <th>trip_freq</th>\n",
       "      <th>subscriber_type</th>\n",
       "    </tr>\n",
       "  </thead>\n",
       "  <tbody>\n",
       "    <tr>\n",
       "      <th>0</th>\n",
       "      <td>8</td>\n",
       "      <td>San Francisco Caltrain (Townsend at 4th)</td>\n",
       "      <td>16994</td>\n",
       "      <td>Subscriber</td>\n",
       "    </tr>\n",
       "    <tr>\n",
       "      <th>1</th>\n",
       "      <td>8</td>\n",
       "      <td>San Francisco Caltrain 2 (330 Townsend)</td>\n",
       "      <td>14817</td>\n",
       "      <td>Subscriber</td>\n",
       "    </tr>\n",
       "    <tr>\n",
       "      <th>2</th>\n",
       "      <td>8</td>\n",
       "      <td>Harry Bridges Plaza (Ferry Building)</td>\n",
       "      <td>11456</td>\n",
       "      <td>Subscriber</td>\n",
       "    </tr>\n",
       "    <tr>\n",
       "      <th>3</th>\n",
       "      <td>9</td>\n",
       "      <td>San Francisco Caltrain 2 (330 Townsend)</td>\n",
       "      <td>9133</td>\n",
       "      <td>Subscriber</td>\n",
       "    </tr>\n",
       "    <tr>\n",
       "      <th>4</th>\n",
       "      <td>8</td>\n",
       "      <td>Temporary Transbay Terminal (Howard at Beale)</td>\n",
       "      <td>8647</td>\n",
       "      <td>Subscriber</td>\n",
       "    </tr>\n",
       "    <tr>\n",
       "      <th>5</th>\n",
       "      <td>9</td>\n",
       "      <td>San Francisco Caltrain (Townsend at 4th)</td>\n",
       "      <td>8391</td>\n",
       "      <td>Subscriber</td>\n",
       "    </tr>\n",
       "    <tr>\n",
       "      <th>6</th>\n",
       "      <td>8</td>\n",
       "      <td>Steuart at Market</td>\n",
       "      <td>6847</td>\n",
       "      <td>Subscriber</td>\n",
       "    </tr>\n",
       "    <tr>\n",
       "      <th>7</th>\n",
       "      <td>18</td>\n",
       "      <td>San Francisco Caltrain (Townsend at 4th)</td>\n",
       "      <td>5775</td>\n",
       "      <td>Subscriber</td>\n",
       "    </tr>\n",
       "    <tr>\n",
       "      <th>8</th>\n",
       "      <td>17</td>\n",
       "      <td>2nd at Townsend</td>\n",
       "      <td>5716</td>\n",
       "      <td>Subscriber</td>\n",
       "    </tr>\n",
       "    <tr>\n",
       "      <th>9</th>\n",
       "      <td>17</td>\n",
       "      <td>Townsend at 7th</td>\n",
       "      <td>5716</td>\n",
       "      <td>Subscriber</td>\n",
       "    </tr>\n",
       "  </tbody>\n",
       "</table>\n",
       "</div>"
      ],
      "text/plain": [
       "   start_hour                             start_station_name  trip_freq  \\\n",
       "0           8       San Francisco Caltrain (Townsend at 4th)      16994   \n",
       "1           8        San Francisco Caltrain 2 (330 Townsend)      14817   \n",
       "2           8           Harry Bridges Plaza (Ferry Building)      11456   \n",
       "3           9        San Francisco Caltrain 2 (330 Townsend)       9133   \n",
       "4           8  Temporary Transbay Terminal (Howard at Beale)       8647   \n",
       "5           9       San Francisco Caltrain (Townsend at 4th)       8391   \n",
       "6           8                              Steuart at Market       6847   \n",
       "7          18       San Francisco Caltrain (Townsend at 4th)       5775   \n",
       "8          17                                2nd at Townsend       5716   \n",
       "9          17                                Townsend at 7th       5716   \n",
       "\n",
       "  subscriber_type  \n",
       "0      Subscriber  \n",
       "1      Subscriber  \n",
       "2      Subscriber  \n",
       "3      Subscriber  \n",
       "4      Subscriber  \n",
       "5      Subscriber  \n",
       "6      Subscriber  \n",
       "7      Subscriber  \n",
       "8      Subscriber  \n",
       "9      Subscriber  "
      ]
     },
     "execution_count": 78,
     "metadata": {},
     "output_type": "execute_result"
    }
   ],
   "source": [
    "pop_stations.head(10)"
   ]
  },
  {
   "cell_type": "markdown",
   "metadata": {},
   "source": [
    "The following filter shows that some bike users during peak hours are marked as \"Customer\" with a day pass or 3-day pass. "
   ]
  },
  {
   "cell_type": "code",
   "execution_count": 34,
   "metadata": {},
   "outputs": [
    {
     "data": {
      "text/html": [
       "<div>\n",
       "<style scoped>\n",
       "    .dataframe tbody tr th:only-of-type {\n",
       "        vertical-align: middle;\n",
       "    }\n",
       "\n",
       "    .dataframe tbody tr th {\n",
       "        vertical-align: top;\n",
       "    }\n",
       "\n",
       "    .dataframe thead th {\n",
       "        text-align: right;\n",
       "    }\n",
       "</style>\n",
       "<table border=\"1\" class=\"dataframe\">\n",
       "  <thead>\n",
       "    <tr style=\"text-align: right;\">\n",
       "      <th></th>\n",
       "      <th>start_hour</th>\n",
       "      <th>start_station_name</th>\n",
       "      <th>trip_freq</th>\n",
       "      <th>subscriber_type</th>\n",
       "    </tr>\n",
       "  </thead>\n",
       "  <tbody>\n",
       "    <tr>\n",
       "      <th>151</th>\n",
       "      <td>16</td>\n",
       "      <td>Embarcadero at Sansome</td>\n",
       "      <td>988</td>\n",
       "      <td>Customer</td>\n",
       "    </tr>\n",
       "    <tr>\n",
       "      <th>172</th>\n",
       "      <td>17</td>\n",
       "      <td>Embarcadero at Sansome</td>\n",
       "      <td>797</td>\n",
       "      <td>Customer</td>\n",
       "    </tr>\n",
       "    <tr>\n",
       "      <th>195</th>\n",
       "      <td>18</td>\n",
       "      <td>Embarcadero at Sansome</td>\n",
       "      <td>580</td>\n",
       "      <td>Customer</td>\n",
       "    </tr>\n",
       "    <tr>\n",
       "      <th>200</th>\n",
       "      <td>17</td>\n",
       "      <td>Harry Bridges Plaza (Ferry Building)</td>\n",
       "      <td>557</td>\n",
       "      <td>Customer</td>\n",
       "    </tr>\n",
       "    <tr>\n",
       "      <th>201</th>\n",
       "      <td>16</td>\n",
       "      <td>Harry Bridges Plaza (Ferry Building)</td>\n",
       "      <td>542</td>\n",
       "      <td>Customer</td>\n",
       "    </tr>\n",
       "  </tbody>\n",
       "</table>\n",
       "</div>"
      ],
      "text/plain": [
       "     start_hour                    start_station_name  trip_freq  \\\n",
       "151          16                Embarcadero at Sansome        988   \n",
       "172          17                Embarcadero at Sansome        797   \n",
       "195          18                Embarcadero at Sansome        580   \n",
       "200          17  Harry Bridges Plaza (Ferry Building)        557   \n",
       "201          16  Harry Bridges Plaza (Ferry Building)        542   \n",
       "\n",
       "    subscriber_type  \n",
       "151        Customer  \n",
       "172        Customer  \n",
       "195        Customer  \n",
       "200        Customer  \n",
       "201        Customer  "
      ]
     },
     "execution_count": 34,
     "metadata": {},
     "output_type": "execute_result"
    }
   ],
   "source": [
    "pop_stations[pop_stations['subscriber_type']==\"Customer\"].head(5)"
   ]
  },
  {
   "cell_type": "markdown",
   "metadata": {},
   "source": [
    "As shown earlier, the number of trips \"Customer\" type bike users go is much less than that for \"Subscriber\" members. So we could add a feature that during peak hours in the case of lack of bike availabiity, the subscriber members have priority over the \"Customer\" users. This policy could encourage the \"Customer\" users to become a long-term subscribers which increases the ridership. Below is the comparison of the number of trips for Customers v.s Subscriber. \n",
    "\n",
    "```\n",
    "Row\t     subscriber_type\t  number_of_trips\t\n",
    "1            Customer               136809\n",
    "2            Subscriber             846839\n",
    "```"
   ]
  },
  {
   "cell_type": "markdown",
   "metadata": {},
   "source": [
    "Now I am looking at stations that generate the highest number of zero bike availability events in weekdays during high demand hours. Spoting those stations helps with identifying supply shortages and recomendations to increase ridership. The following query lists the top 5 stations which create the highest number of zero bike events during peak hours. One strategy to increase the ridership could be to have more bikes available in those stations though expanding the number of docks and bikes. "
   ]
  },
  {
   "cell_type": "code",
   "execution_count": 71,
   "metadata": {},
   "outputs": [
    {
     "data": {
      "text/html": [
       "<div>\n",
       "<style scoped>\n",
       "    .dataframe tbody tr th:only-of-type {\n",
       "        vertical-align: middle;\n",
       "    }\n",
       "\n",
       "    .dataframe tbody tr th {\n",
       "        vertical-align: top;\n",
       "    }\n",
       "\n",
       "    .dataframe thead th {\n",
       "        text-align: right;\n",
       "    }\n",
       "</style>\n",
       "<table border=\"1\" class=\"dataframe\">\n",
       "  <thead>\n",
       "    <tr style=\"text-align: right;\">\n",
       "      <th></th>\n",
       "      <th>hour</th>\n",
       "      <th>name</th>\n",
       "      <th>zero_bike_hour_freq</th>\n",
       "    </tr>\n",
       "  </thead>\n",
       "  <tbody>\n",
       "    <tr>\n",
       "      <th>0</th>\n",
       "      <td>9</td>\n",
       "      <td>San Francisco Caltrain (Townsend at 4th)</td>\n",
       "      <td>11128</td>\n",
       "    </tr>\n",
       "    <tr>\n",
       "      <th>1</th>\n",
       "      <td>18</td>\n",
       "      <td>Broadway St at Battery St</td>\n",
       "      <td>10062</td>\n",
       "    </tr>\n",
       "    <tr>\n",
       "      <th>2</th>\n",
       "      <td>18</td>\n",
       "      <td>Embarcadero at Vallejo</td>\n",
       "      <td>7933</td>\n",
       "    </tr>\n",
       "    <tr>\n",
       "      <th>3</th>\n",
       "      <td>9</td>\n",
       "      <td>Temporary Transbay Terminal (Howard at Beale)</td>\n",
       "      <td>7677</td>\n",
       "    </tr>\n",
       "    <tr>\n",
       "      <th>4</th>\n",
       "      <td>18</td>\n",
       "      <td>Commercial at Montgomery</td>\n",
       "      <td>7619</td>\n",
       "    </tr>\n",
       "    <tr>\n",
       "      <th>5</th>\n",
       "      <td>9</td>\n",
       "      <td>Grant Avenue at Columbus Avenue</td>\n",
       "      <td>6771</td>\n",
       "    </tr>\n",
       "    <tr>\n",
       "      <th>6</th>\n",
       "      <td>9</td>\n",
       "      <td>Embarcadero at Bryant</td>\n",
       "      <td>6530</td>\n",
       "    </tr>\n",
       "    <tr>\n",
       "      <th>7</th>\n",
       "      <td>10</td>\n",
       "      <td>San Francisco Caltrain (Townsend at 4th)</td>\n",
       "      <td>6064</td>\n",
       "    </tr>\n",
       "    <tr>\n",
       "      <th>8</th>\n",
       "      <td>18</td>\n",
       "      <td>2nd at Folsom</td>\n",
       "      <td>6032</td>\n",
       "    </tr>\n",
       "    <tr>\n",
       "      <th>9</th>\n",
       "      <td>18</td>\n",
       "      <td>2nd at South Park</td>\n",
       "      <td>5903</td>\n",
       "    </tr>\n",
       "  </tbody>\n",
       "</table>\n",
       "</div>"
      ],
      "text/plain": [
       "   hour                                           name  zero_bike_hour_freq\n",
       "0     9       San Francisco Caltrain (Townsend at 4th)                11128\n",
       "1    18                      Broadway St at Battery St                10062\n",
       "2    18                         Embarcadero at Vallejo                 7933\n",
       "3     9  Temporary Transbay Terminal (Howard at Beale)                 7677\n",
       "4    18                       Commercial at Montgomery                 7619\n",
       "5     9                Grant Avenue at Columbus Avenue                 6771\n",
       "6     9                          Embarcadero at Bryant                 6530\n",
       "7    10       San Francisco Caltrain (Townsend at 4th)                 6064\n",
       "8    18                                  2nd at Folsom                 6032\n",
       "9    18                              2nd at South Park                 5903"
      ]
     },
     "execution_count": 71,
     "metadata": {},
     "output_type": "execute_result"
    }
   ],
   "source": [
    "%%bigquery\n",
    "SELECT hour, name, count(hour) as zero_bike_hour_freq\n",
    "from (\n",
    "SELECT EXTRACT(HOUR FROM time) AS hour, station.name\n",
    "FROM `bigquery-public-data.san_francisco.bikeshare_status` status\n",
    "JOIN `bigquery-public-data.san_francisco.bikeshare_stations` station on status.station_id = station.station_id\n",
    "WHERE (EXTRACT(DAYOFWEEK FROM time) NOT IN (1, 7)) and bikes_available = 0\n",
    ")\n",
    "group by hour, name\n",
    "order by zero_bike_hour_freq desc\n",
    "limit 10\n"
   ]
  },
  {
   "cell_type": "markdown",
   "metadata": {},
   "source": [
    "Next I am going to check what stations have available bikes near those with zero bike availabiliy during weekdays. As stated earlier, there is a opportunity here to balance out the supply-demand at those stations which create high number of supply shortage. In the following query, I am going to explore if there are any staions with good amount of available bikes around those stations with zero bike availibility during peak hours. The following query shows the top ten stations with the most available bikes during peak hours. There is an opportunity here to increase the ridership. For example, Japantown with the highest numbber of available bikes during peak hours is only 6.5 miles away from San Francisco Caltrain station which has the highest number of zero bike availability events. So they could either have a shuttle bus to take bikers from the San Francisco Caltrain station to the Japantown station or they could bring move available bikes from the Japantown station to the San Francisco Caltrain station and this will lower the  number of zero available bike events and increase the ridership and company's profit. Temporary Transbay Terminal is another station that creates high number of bike unavailability and it is about 2.3 miles away from Japantown. In case of shuttle bus, the bikers can be encouraged to use the shuttle by promoting the subscribers with some discount.  "
   ]
  },
  {
   "cell_type": "code",
   "execution_count": 72,
   "metadata": {},
   "outputs": [
    {
     "data": {
      "text/html": [
       "<div>\n",
       "<style scoped>\n",
       "    .dataframe tbody tr th:only-of-type {\n",
       "        vertical-align: middle;\n",
       "    }\n",
       "\n",
       "    .dataframe tbody tr th {\n",
       "        vertical-align: top;\n",
       "    }\n",
       "\n",
       "    .dataframe thead th {\n",
       "        text-align: right;\n",
       "    }\n",
       "</style>\n",
       "<table border=\"1\" class=\"dataframe\">\n",
       "  <thead>\n",
       "    <tr style=\"text-align: right;\">\n",
       "      <th></th>\n",
       "      <th>hour</th>\n",
       "      <th>name</th>\n",
       "      <th>bike_available_sum</th>\n",
       "    </tr>\n",
       "  </thead>\n",
       "  <tbody>\n",
       "    <tr>\n",
       "      <th>0</th>\n",
       "      <td>9</td>\n",
       "      <td>Japantown</td>\n",
       "      <td>46339</td>\n",
       "    </tr>\n",
       "    <tr>\n",
       "      <th>1</th>\n",
       "      <td>9</td>\n",
       "      <td>San Pedro Square</td>\n",
       "      <td>46339</td>\n",
       "    </tr>\n",
       "    <tr>\n",
       "      <th>2</th>\n",
       "      <td>9</td>\n",
       "      <td>MLK Library</td>\n",
       "      <td>46339</td>\n",
       "    </tr>\n",
       "    <tr>\n",
       "      <th>3</th>\n",
       "      <td>9</td>\n",
       "      <td>San Jose City Hall</td>\n",
       "      <td>46339</td>\n",
       "    </tr>\n",
       "    <tr>\n",
       "      <th>4</th>\n",
       "      <td>9</td>\n",
       "      <td>Paseo de San Antonio</td>\n",
       "      <td>46339</td>\n",
       "    </tr>\n",
       "    <tr>\n",
       "      <th>5</th>\n",
       "      <td>9</td>\n",
       "      <td>Adobe on Almaden</td>\n",
       "      <td>46339</td>\n",
       "    </tr>\n",
       "    <tr>\n",
       "      <th>6</th>\n",
       "      <td>9</td>\n",
       "      <td>San Salvador at 1st</td>\n",
       "      <td>46339</td>\n",
       "    </tr>\n",
       "    <tr>\n",
       "      <th>7</th>\n",
       "      <td>9</td>\n",
       "      <td>Santa Clara at Almaden</td>\n",
       "      <td>46339</td>\n",
       "    </tr>\n",
       "    <tr>\n",
       "      <th>8</th>\n",
       "      <td>9</td>\n",
       "      <td>San Jose Diridon Caltrain Station</td>\n",
       "      <td>46339</td>\n",
       "    </tr>\n",
       "    <tr>\n",
       "      <th>9</th>\n",
       "      <td>9</td>\n",
       "      <td>San Jose Civic Center</td>\n",
       "      <td>46339</td>\n",
       "    </tr>\n",
       "  </tbody>\n",
       "</table>\n",
       "</div>"
      ],
      "text/plain": [
       "   hour                               name  bike_available_sum\n",
       "0     9                          Japantown               46339\n",
       "1     9                   San Pedro Square               46339\n",
       "2     9                        MLK Library               46339\n",
       "3     9                 San Jose City Hall               46339\n",
       "4     9               Paseo de San Antonio               46339\n",
       "5     9                   Adobe on Almaden               46339\n",
       "6     9                San Salvador at 1st               46339\n",
       "7     9             Santa Clara at Almaden               46339\n",
       "8     9  San Jose Diridon Caltrain Station               46339\n",
       "9     9              San Jose Civic Center               46339"
      ]
     },
     "execution_count": 72,
     "metadata": {},
     "output_type": "execute_result"
    }
   ],
   "source": [
    "%%bigquery\n",
    "SELECT hour, name, count(hour) as bike_available_sum\n",
    "from (\n",
    "SELECT EXTRACT(HOUR FROM time) AS hour, station.name\n",
    "FROM `bigquery-public-data.san_francisco.bikeshare_status` status\n",
    "JOIN `bigquery-public-data.san_francisco.bikeshare_stations` station on status.station_id = station.station_id\n",
    "WHERE (EXTRACT(DAYOFWEEK FROM time) NOT IN (1, 7)) and (EXTRACT(HOUR FROM time) IN (9))\n",
    ")\n",
    "group by hour, name\n",
    "order by bike_available_sum desc\n",
    "limit 10"
   ]
  },
  {
   "cell_type": "markdown",
   "metadata": {},
   "source": [
    "* What are the 5 most popular trips that you would call \"commuter trips\"?\n",
    "\n",
    "Next, with  a new definition of \"commuter trips\", I am going to find the top five most popular commuter trips. Based on the daily riding pattern, I define a commuter trip as a trip from A to B to C. The reason is people seem to go from a station close to Caltrain to a station close to work in the morning and then in the evening they go back from the same direction. So here we are looking for trips from A - B and B - C with the highest number of `trip_id`. To achieve this, I join two aggregated 'trip' tables on the condition that the end_station of the first 'trip' table (called trip 1) will be the same as the start_station of the second 'trip' table (called trip 2). And finally I get the start_station and end_station of trip 1 and the end_station of trip 2 and the total comuter trip count would be (count of trip1 + count trip2)/2 sorted. The following table shows the top 5 most popular commuter trips."
   ]
  },
  {
   "cell_type": "code",
   "execution_count": 74,
   "metadata": {},
   "outputs": [
    {
     "data": {
      "text/html": [
       "<div>\n",
       "<style scoped>\n",
       "    .dataframe tbody tr th:only-of-type {\n",
       "        vertical-align: middle;\n",
       "    }\n",
       "\n",
       "    .dataframe tbody tr th {\n",
       "        vertical-align: top;\n",
       "    }\n",
       "\n",
       "    .dataframe thead th {\n",
       "        text-align: right;\n",
       "    }\n",
       "</style>\n",
       "<table border=\"1\" class=\"dataframe\">\n",
       "  <thead>\n",
       "    <tr style=\"text-align: right;\">\n",
       "      <th></th>\n",
       "      <th>start_station_name</th>\n",
       "      <th>end_station_name</th>\n",
       "      <th>end_station_name_1</th>\n",
       "      <th>commuter_trips</th>\n",
       "    </tr>\n",
       "  </thead>\n",
       "  <tbody>\n",
       "    <tr>\n",
       "      <th>0</th>\n",
       "      <td>2nd at Townsend</td>\n",
       "      <td>Harry Bridges Plaza (Ferry Building)</td>\n",
       "      <td>Embarcadero at Sansome</td>\n",
       "      <td>8385.0</td>\n",
       "    </tr>\n",
       "    <tr>\n",
       "      <th>1</th>\n",
       "      <td>Harry Bridges Plaza (Ferry Building)</td>\n",
       "      <td>Embarcadero at Sansome</td>\n",
       "      <td>Steuart at Market</td>\n",
       "      <td>8012.0</td>\n",
       "    </tr>\n",
       "    <tr>\n",
       "      <th>2</th>\n",
       "      <td>San Francisco Caltrain (Townsend at 4th)</td>\n",
       "      <td>Harry Bridges Plaza (Ferry Building)</td>\n",
       "      <td>Embarcadero at Sansome</td>\n",
       "      <td>7682.5</td>\n",
       "    </tr>\n",
       "    <tr>\n",
       "      <th>3</th>\n",
       "      <td>San Francisco Caltrain 2 (330 Townsend)</td>\n",
       "      <td>Townsend at 7th</td>\n",
       "      <td>San Francisco Caltrain 2 (330 Townsend)</td>\n",
       "      <td>7672.0</td>\n",
       "    </tr>\n",
       "    <tr>\n",
       "      <th>4</th>\n",
       "      <td>Townsend at 7th</td>\n",
       "      <td>San Francisco Caltrain 2 (330 Townsend)</td>\n",
       "      <td>Townsend at 7th</td>\n",
       "      <td>7672.0</td>\n",
       "    </tr>\n",
       "  </tbody>\n",
       "</table>\n",
       "</div>"
      ],
      "text/plain": [
       "                         start_station_name  \\\n",
       "0                           2nd at Townsend   \n",
       "1      Harry Bridges Plaza (Ferry Building)   \n",
       "2  San Francisco Caltrain (Townsend at 4th)   \n",
       "3   San Francisco Caltrain 2 (330 Townsend)   \n",
       "4                           Townsend at 7th   \n",
       "\n",
       "                          end_station_name  \\\n",
       "0     Harry Bridges Plaza (Ferry Building)   \n",
       "1                   Embarcadero at Sansome   \n",
       "2     Harry Bridges Plaza (Ferry Building)   \n",
       "3                          Townsend at 7th   \n",
       "4  San Francisco Caltrain 2 (330 Townsend)   \n",
       "\n",
       "                        end_station_name_1  commuter_trips  \n",
       "0                   Embarcadero at Sansome          8385.0  \n",
       "1                        Steuart at Market          8012.0  \n",
       "2                   Embarcadero at Sansome          7682.5  \n",
       "3  San Francisco Caltrain 2 (330 Townsend)          7672.0  \n",
       "4                          Townsend at 7th          7672.0  "
      ]
     },
     "execution_count": 74,
     "metadata": {},
     "output_type": "execute_result"
    }
   ],
   "source": [
    "%%bigquery\n",
    "select trip1.start_station_name, \n",
    "trip1.end_station_name, \n",
    "trip2.end_station_name, \n",
    "(trip1.trip_number + trip2.trip_number)/2 AS commuter_trips_count\n",
    "from  \n",
    "(SELECT  \n",
    " start_station_name, \n",
    " end_station_name, \n",
    " count(trip_id) AS trip_number\n",
    "FROM `bigquery-public-data.san_francisco.bikeshare_trips` \n",
    "group by start_station_name, end_station_name) trip1 \n",
    "join \n",
    "(SELECT\n",
    " start_station_name, \n",
    " end_station_name, \n",
    " count(trip_id) AS trip_number\n",
    "FROM `bigquery-public-data.san_francisco.bikeshare_trips` \n",
    "group by start_station_name, end_station_name) trip2\n",
    "on trip1.end_station_name = trip2.start_station_name\n",
    "--where EXTRACT(DAYOFWEEK FROM trip1.start_date) NOT IN (1, 7)\n",
    "order by commuter_trips desc\n",
    "limit 5"
   ]
  },
  {
   "cell_type": "markdown",
   "metadata": {},
   "source": [
    "Lastly, I am going to test a similar analysis using the riding data in weekends. The weekends are filterd by Extract() function compared against Saturday and Sunday. As shown below from the histogram, the bike trips peak in the after noon, however as shown in the scatter plot, the number of zero bike events generated for the weekends is significantly lower than that for weekdays. "
   ]
  },
  {
   "cell_type": "code",
   "execution_count": null,
   "metadata": {},
   "outputs": [],
   "source": [
    "%%bigquery trip_weekend\n",
    "SELECT trip_id, \n",
    "EXTRACT(HOUR FROM start_date)+EXTRACT(MINUTE FROM start_date)/60 AS start_hour, \n",
    "EXTRACT(HOUR FROM end_date)+EXTRACT(MINUTE FROM end_date)/60 AS end_hour\n",
    "FROM `bigquery-public-data.san_francisco.bikeshare_trips` \n",
    "WHERE (EXTRACT(DAYOFWEEK FROM start_date) IN (1, 7)) and (EXTRACT(DAYOFWEEK FROM end_date) IN (1, 7))"
   ]
  },
  {
   "cell_type": "code",
   "execution_count": 6,
   "metadata": {},
   "outputs": [
    {
     "data": {
      "text/plain": [
       "Text(0.5, 1.0, 'histogram of trip start hours in weekends')"
      ]
     },
     "execution_count": 6,
     "metadata": {},
     "output_type": "execute_result"
    },
    {
     "data": {
      "image/png": "[encoded data removed]",
      "text/plain": [
       "<Figure size 432x288 with 1 Axes>"
      ]
     },
     "metadata": {
      "needs_background": "light"
     },
     "output_type": "display_data"
    }
   ],
   "source": [
    "# Histogram plot of the start hours of trips in weekends\n",
    "ax = trip_weekend.start_hour.hist(bins = 24)\n",
    "ax.set_ylabel(\"Frequency\") \n",
    "ax.set_xlabel(\"trip start hour\")\n",
    "ax.set_title(\"histogram of trip start hours in weekends\")"
   ]
  },
  {
   "cell_type": "code",
   "execution_count": 3,
   "metadata": {},
   "outputs": [],
   "source": [
    "%%bigquery zero_bike_weekend\n",
    "SELECT hour, count(hour) as zero_bike_hour_freq\n",
    "from (\n",
    "SELECT EXTRACT(HOUR FROM time) AS hour, \n",
    "FROM `bigquery-public-data.san_francisco.bikeshare_status` \n",
    "WHERE (EXTRACT(DAYOFWEEK FROM time) IN (1, 7)) and bikes_available = 0\n",
    ")\n",
    "group by hour \n",
    "order by zero_bike_hour_freq desc"
   ]
  },
  {
   "cell_type": "code",
   "execution_count": 21,
   "metadata": {},
   "outputs": [
    {
     "data": {
      "text/plain": [
       "<AxesSubplot:title={'center':'number of zero bike events in weekends'}, xlabel='hour', ylabel='zero_bike_hour_freq'>"
      ]
     },
     "execution_count": 21,
     "metadata": {},
     "output_type": "execute_result"
    },
    {
     "data": {
      "image/png": "[encoded data removed]",
      "text/plain": [
       "<Figure size 432x288 with 1 Axes>"
      ]
     },
     "metadata": {
      "needs_background": "light"
     },
     "output_type": "display_data"
    }
   ],
   "source": [
    "zero_bike_weekend.plot(x='hour', y='zero_bike_hour_freq', kind='scatter', title='number of zero bike events in weekends')"
   ]
  },
  {
   "cell_type": "markdown",
   "metadata": {},
   "source": [
    "A similar recomendation could apply here to add a discount promotion to subscriber to move the riding load from peak hours (15-17) to either evening after 19 PM or around 9-10 AM."
   ]
  },
  {
   "cell_type": "code",
   "execution_count": null,
   "metadata": {},
   "outputs": [],
   "source": []
  }
 ],
 "metadata": {
  "environment": {
   "name": "tf2-gpu.2-1.m59",
   "type": "gcloud",
   "uri": "gcr.io/deeplearning-platform-release/tf2-gpu.2-1:m59"
  },
  "kernelspec": {
   "display_name": "Python 3",
   "language": "python",
   "name": "python3"
  },
  "language_info": {
   "codemirror_mode": {
    "name": "ipython",
    "version": 3
   },
   "file_extension": ".py",
   "mimetype": "text/x-python",
   "name": "python",
   "nbconvert_exporter": "python",
   "pygments_lexer": "ipython3",
   "version": "3.7.6"
  }
 },
 "nbformat": 4,
 "nbformat_minor": 4
}
